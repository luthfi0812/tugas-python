{
 "cells": [
  {
   "cell_type": "code",
   "execution_count": null,
   "id": "2050ca86-08df-4937-999a-ae06f40f0980",
   "metadata": {},
   "outputs": [],
   "source": [
    "BIODATA SEDERHANA"
   ]
  },
  {
   "cell_type": "code",
   "execution_count": 31,
   "id": "25c85871-c130-4802-b0c6-48f5044c3c2d",
   "metadata": {},
   "outputs": [
    {
     "name": "stdin",
     "output_type": "stream",
     "text": [
      "Masukkan nama:  rifa\n",
      "Masukkan usia:  21\n",
      "Masukkan alamat:  jl aminta azmali\n",
      "Masukkan jurusan:  teknik informatika\n"
     ]
    },
    {
     "name": "stdout",
     "output_type": "stream",
     "text": [
      "\n",
      "Biodata Anda:\n",
      "Nama: rifa\n",
      "Usia: 21\n",
      "Alamat: jl aminta azmali\n",
      "Jurusan: teknik informatika\n"
     ]
    }
   ],
   "source": [
    "# Input biodata dari pengguna\n",
    "nama = input(\"Masukkan nama: \")\n",
    "usia = input(\"Masukkan usia: \")\n",
    "alamat = input(\"Masukkan alamat: \")\n",
    "jurusan = input(\"Masukkan jurusan: \")\n",
    "\n",
    "# Output dengan format()\n",
    "biodata = \"Nama: {}\\nUsia: {}\\nAlamat: {}\\nJurusan: {}\".format(nama, usia, alamat, jurusan)\n",
    "print(\"\\nBiodata Anda:\\n\" + biodata)\n"
   ]
  },
  {
   "cell_type": "code",
   "execution_count": null,
   "id": "d3cb1952-8bd2-4b30-8b5c-3f6d90762019",
   "metadata": {},
   "outputs": [],
   "source": [
    "Manipulasi String \"UNIVERSITAS NUSA PUTRA SUKABUMI\""
   ]
  },
  {
   "cell_type": "code",
   "execution_count": 33,
   "id": "8f15e673-bfb0-4bb9-b5a7-4c58365d67c7",
   "metadata": {},
   "outputs": [
    {
     "name": "stdout",
     "output_type": "stream",
     "text": [
      "a. putra nusa\n",
      "b. NIVERSITAS NSA PTRA SKABMI\n",
      "c. SUKABUMI PUTRA NUSA UNIVERSITAS\n",
      "d. UNPS\n",
      "e. UMI SIT BUM\n"
     ]
    }
   ],
   "source": [
    "kalimat = \"UNIVERSITAS NUSA PUTRA SUKABUMI\"\n",
    "\n",
    "# a. putra nusa (mengambil kata yang dibalik posisinya)\n",
    "a = \" \".join(kalimat.split()[2:0:-1])\n",
    "print(\"a.\", a.lower())\n",
    "\n",
    "# b. NIVERSITAS NSA PTRA SKABMI (menghapus huruf U dari setiap kata)\n",
    "b = \" \".join([kata.replace(\"U\", \"\") for kata in kalimat.split()])\n",
    "print(\"b.\", b)\n",
    "\n",
    "# c. SUKABUMI PUTRA NUSA UNIVERSITAS (membalik urutan kata)\n",
    "c = \" \".join(reversed(kalimat.split()))\n",
    "print(\"c.\", c)\n",
    "\n",
    "# d. UNPS (mengambil huruf pertama dari setiap kata)\n",
    "d = \"\".join([kata[0] for kata in kalimat.split()])\n",
    "print(\"d.\", d)\n",
    "\n",
    "# e. TAS SAPU BUMI (mengambil suku kata terakhir dari tiap kata)\n",
    "e = kalimat[-3:] + \" \" + kalimat[6:9] + \" \" + kalimat[-4:-1]\n",
    "print(\"e.\", e)\n"
   ]
  }
 ],
 "metadata": {
  "kernelspec": {
   "display_name": "Python [conda env:base] *",
   "language": "python",
   "name": "conda-base-py"
  },
  "language_info": {
   "codemirror_mode": {
    "name": "ipython",
    "version": 3
   },
   "file_extension": ".py",
   "mimetype": "text/x-python",
   "name": "python",
   "nbconvert_exporter": "python",
   "pygments_lexer": "ipython3",
   "version": "3.12.7"
  }
 },
 "nbformat": 4,
 "nbformat_minor": 5
}
