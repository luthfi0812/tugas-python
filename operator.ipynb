{
 "cells": [
  {
   "cell_type": "code",
   "execution_count": 3,
   "id": "f452541d-6495-4885-8601-cdf69c6b72ac",
   "metadata": {},
   "outputs": [
    {
     "name": "stdin",
     "output_type": "stream",
     "text": [
      "isikan nilai x:  10\n",
      "isikan nilai y:  9\n"
     ]
    },
    {
     "name": "stdout",
     "output_type": "stream",
     "text": [
      "hasil penjumlahan 10 + 9 = 19\n",
      "hasil pengurangan 10 - 9 = 1\n",
      "hasil perkalian 10 * 9 = 90\n",
      "hasil pembagian 10 / 9 = 1.1111111111111112\n",
      "hasil modulus 10 % 9 = 1\n",
      "hasil pangkat 10 ** 9 = 1000000000\n",
      "hasil bagi bulat 10 // 9 = 1\n"
     ]
    }
   ],
   "source": [
    "x = int(input(\"isikan nilai x: \"))\n",
    "y = int(input(\"isikan nilai y: \"))\n",
    "\n",
    "hasilTambah = x + y\n",
    "hasilKurang = x - y\n",
    "hasilKali = x * y\n",
    "hasilBagi = x / y\n",
    "hasilMod = x % y\n",
    "hasilPangkat = x ** y\n",
    "hasilBagiBulat = x // y\n",
    "\n",
    "print(\"hasil penjumlahan\",x,\"+\",y,\"=\",hasilTambah)\n",
    "print(\"hasil pengurangan\",x,\"-\",y,\"=\",hasilKurang)\n",
    "print(\"hasil perkalian\",x,\"*\",y,\"=\",hasilKali)\n",
    "print(\"hasil pembagian\",x,\"/\",y,\"=\",hasilBagi)\n",
    "print(\"hasil modulus\",x,\"%\",y,\"=\",hasilMod)\n",
    "print(\"hasil pangkat\",x,\"**\",y,\"=\",hasilPangkat)\n",
    "print(\"hasil bagi bulat\",x,\"//\",y,\"=\",hasilBagiBulat)"
   ]
  },
  {
   "cell_type": "code",
   "execution_count": 13,
   "id": "9f5ebb23-d46c-4185-83e1-a8dac7100e04",
   "metadata": {},
   "outputs": [
    {
     "name": "stdin",
     "output_type": "stream",
     "text": [
      "isikan nilai : 20\n"
     ]
    },
    {
     "name": "stdout",
     "output_type": "stream",
     "text": [
      "nilai dari variabel <nilai> adalah: 20\n",
      "<nilai> setelah ditambahkan dengan 5 adalah adalah: 25\n",
      "<nilai> setelah dikurang dengan 10 adalah adalah: 15\n",
      "<nilai> setelah dikalikan dengan 4 adalah adalah: 60\n",
      "<nilai> setelah dibagikan dengan 2 adalah adalah: 30.0\n",
      "<nilai> setelah dimodulus dengan 5 adalah adalah: 0.0\n",
      "<nilai> setelah dipangkatkan dengan 3 adalah adalah: 0.0\n",
      "<nilai> setelah dibagibulatkan dengan 6 adalah adalah: 0.0\n"
     ]
    }
   ],
   "source": [
    "nilai = int(input(\"isikan nilai :\"))\n",
    "print(\"nilai dari variabel <nilai> adalah:\",nilai)\n",
    "nilai+=5\n",
    "print(\"<nilai> setelah ditambahkan dengan 5 adalah adalah:\",nilai)\n",
    "nilai-=10\n",
    "print(\"<nilai> setelah dikurang dengan 10 adalah adalah:\",nilai)\n",
    "nilai*=4\n",
    "print(\"<nilai> setelah dikalikan dengan 4 adalah adalah:\",nilai)\n",
    "nilai/=2\n",
    "print(\"<nilai> setelah dibagikan dengan 2 adalah adalah:\",nilai)\n",
    "nilai%=5\n",
    "print(\"<nilai> setelah dimodulus dengan 5 adalah adalah:\",nilai)\n",
    "nilai**=3\n",
    "print(\"<nilai> setelah dipangkatkan dengan 3 adalah adalah:\",nilai)\n",
    "nilai//=6\n",
    "print(\"<nilai> setelah dibagibulatkan dengan 6 adalah adalah:\",nilai)"
   ]
  },
  {
   "cell_type": "code",
   "execution_count": 15,
   "id": "d72a350e-88b1-4f0d-b8b4-d647ecdc5dd5",
   "metadata": {},
   "outputs": [
    {
     "name": "stdin",
     "output_type": "stream",
     "text": [
      "isikan nilai 1: 20\n",
      "isikan nilai 2: 15\n"
     ]
    },
    {
     "name": "stdout",
     "output_type": "stream",
     "text": [
      "apakah 20 sama dengan 15 ? False\n",
      "apakah 20 tidak sama dengan 15 ? True\n",
      "apakah 20 lebih besar 15 ? True\n",
      "apakah 20 lebih kecil 15 ? False\n",
      "apakah 20 lebih besar atau sama dengan 15 ? True\n",
      "apakah 20 lebih kecil atau sama dengan 15 ? False\n",
      "apakah 20 sama dengan 15 ? False\n"
     ]
    }
   ],
   "source": [
    "#OPERATOR PERBANDINGAN\n",
    "val1 = int(input(\"isikan nilai 1:\"))\n",
    "val2 = int(input(\"isikan nilai 2:\"))\n",
    "\n",
    "print(\"apakah\",val1,\"sama dengan\",val2,\"?\",val1==val2)\n",
    "print(\"apakah\",val1,\"tidak sama dengan\",val2,\"?\",val1!=val2)\n",
    "print(\"apakah\",val1,\"lebih besar\",val2,\"?\",val1>val2)\n",
    "print(\"apakah\",val1,\"lebih kecil\",val2,\"?\",val1<val2)\n",
    "print(\"apakah\",val1,\"lebih besar atau sama dengan\",val2,\"?\",val1>=val2)\n",
    "print(\"apakah\",val1,\"lebih kecil atau sama dengan\",val2,\"?\",val1<=val2)\n",
    "print(\"apakah\",val1,\"sama dengan\",val2,\"?\",val1==val2)"
   ]
  },
  {
   "cell_type": "code",
   "execution_count": 21,
   "id": "206a6609-5cc0-40bb-a927-48d61f78f8c7",
   "metadata": {},
   "outputs": [
    {
     "name": "stdin",
     "output_type": "stream",
     "text": [
      "isikan bilangan 1: 11\n",
      "isikan bilangan 2: 1\n"
     ]
    },
    {
     "name": "stdout",
     "output_type": "stream",
     "text": [
      "apakah <num1> %2 = 0 dan <num2> > 4 False\n",
      "apakah <num1> %2 = 0 atau <num2> > 4 False\n",
      "apakah <num1> %2 = 0 and <num2> > 4 True\n"
     ]
    }
   ],
   "source": [
    "num1 = int(input(\"isikan bilangan 1:\"))\n",
    "num2 = int(input(\"isikan bilangan 2:\"))\n",
    "\n",
    "print(\"apakah <num1> %2 = 0 dan <num2> > 4\",num1 %2==0 and num2 > 4)\n",
    "print(\"apakah <num1> %2 = 0 atau <num2> > 4\",num1 %2==0 or num2 > 4)\n",
    "print(\"apakah <num1> %2 = 0 and <num2> > 4\",not(num1 %2==0 and num2 > 4))"
   ]
  },
  {
   "cell_type": "code",
   "execution_count": 23,
   "id": "2cd6e27a-b64a-4b5d-afb3-e4a1f08bde4d",
   "metadata": {},
   "outputs": [
    {
     "name": "stdout",
     "output_type": "stream",
     "text": [
      "alamat memori number1: 140704900393688\n",
      "alamat memori number2: 1791187544432\n",
      "alamat memori number3: 1791187544432\n",
      "False\n",
      "True\n",
      "True\n"
     ]
    }
   ],
   "source": [
    "number1 = 10\n",
    "number2 = \"10\"\n",
    "number3=number2\n",
    "\n",
    "print(\"alamat memori number1:\",id(number1))\n",
    "print(\"alamat memori number2:\",id(number2))\n",
    "print(\"alamat memori number3:\",id(number3))\n",
    "print(number1 is number2)\n",
    "print(number2 is number3)\n",
    "print(number1 is not number2)"
   ]
  },
  {
   "cell_type": "code",
   "execution_count": 27,
   "id": "31a46509-bf74-48f2-8cf7-f30e8d6a2063",
   "metadata": {},
   "outputs": [
    {
     "name": "stdout",
     "output_type": "stream",
     "text": [
      "False\n",
      "False\n",
      "True\n"
     ]
    }
   ],
   "source": [
    "nama = \"prabowo\"\n",
    "print(\"P\" in nama)\n",
    "listPresiden = [\"soekarno\",\"soeharto\",\"habiebi\",\"gus dur\",\"megawati\"]\n",
    "print(nama in listPresiden)\n",
    "print(nama not in listPresiden)"
   ]
  },
  {
   "cell_type": "code",
   "execution_count": 39,
   "id": "ea523a95-b2d8-45ca-9310-3de8be9b032b",
   "metadata": {},
   "outputs": [
    {
     "name": "stdin",
     "output_type": "stream",
     "text": [
      "isikan bilangan 1: 10\n",
      "isikan bilangan 2: 12\n"
     ]
    },
    {
     "name": "stdout",
     "output_type": "stream",
     "text": [
      "0b1010\n",
      "0b1100\n",
      "--------&\n",
      "0b1000 = 8\n",
      "0b1010\n",
      "0b1100\n",
      "--------&\n",
      "0b1110 = 14\n",
      "0b1010\n",
      "0b1100\n",
      "--------&\n",
      "0b110 = 6\n",
      "0b1010 geser ke kiri sebanyak 12\n",
      "hasilnya adalah: 0b1010000000000000 = 40960\n",
      "0b1010 geser ke kanan sebanyak 12\n",
      "hasilnya adalah: 0b0 = 0\n"
     ]
    }
   ],
   "source": [
    "\n",
    "#operator bitwise\n",
    "number1 = int(input(\"isikan bilangan 1:\"))\n",
    "number2 = int(input(\"isikan bilangan 2:\"))\n",
    "\n",
    "print(bin(number1))\n",
    "print(bin(number2))\n",
    "print(\"--------&\")\n",
    "print(bin(number1 & number2),\"=\",number1 & number2)\n",
    "\n",
    "print(bin(number1))\n",
    "print(bin(number2))\n",
    "print(\"--------&\")\n",
    "print(bin(number1 | number2),\"=\",number1 | number2)\n",
    "\n",
    "print(bin(number1))\n",
    "print(bin(number2))\n",
    "print(\"--------&\")\n",
    "print(bin(number1 ^ number2),\"=\",number1 ^ number2)\n",
    "\n",
    "print(bin(number1),\"geser ke kiri sebanyak\",number2)\n",
    "print(\"hasilnya adalah:\",bin(number1 << number2),\"=\",number1<<number2)\n",
    "\n",
    "print(bin(number1),\"geser ke kanan sebanyak\",number2)\n",
    "print(\"hasilnya adalah:\",bin(number1 >> number2),\"=\",number1>>number2)"
   ]
  },
  {
   "cell_type": "code",
   "execution_count": 41,
   "id": "78c8ebe0-f89e-4c22-aea8-2790c6a60b86",
   "metadata": {},
   "outputs": [
    {
     "name": "stdin",
     "output_type": "stream",
     "text": [
      "isikan bilangan: 5\n"
     ]
    },
    {
     "name": "stdout",
     "output_type": "stream",
     "text": [
      "5 adalah bilangan ganjil\n"
     ]
    }
   ],
   "source": [
    "OPERATOR TERNARY\n",
    "\n",
    "#bilangan ganjil dan genap\n",
    "\n",
    "number = int(input(\"isikan bilangan:\"))\n",
    "oddEven = \"genap\" if number % 2==0 else \"ganjil\"\n",
    "print(number, \"adalah bilangan\",oddEven)"
   ]
  },
  {
   "cell_type": "code",
   "execution_count": 79,
   "id": "09ec55f2-393a-4f7d-b2ab-e0b821401c2f",
   "metadata": {},
   "outputs": [
    {
     "name": "stdin",
     "output_type": "stream",
     "text": [
      "isikan jumlah pisang: 2\n",
      "isikan jumlah kolak: 3\n",
      "isikan jumlah esBuah: 4\n"
     ]
    },
    {
     "name": "stdout",
     "output_type": "stream",
     "text": [
      "pisang 2 * 13000 = 26000\n",
      "kolak 3 * 7000 = 21000\n",
      "esBuah 4 * 15000 = 60000\n",
      "==========================\n",
      "total belanja : 107000\n",
      "total Discount: 5 % -> 5350.0\n",
      "total bayar: 101650.0\n"
     ]
    }
   ],
   "source": [
    "pisang = int(input(\"isikan jumlah pisang:\"))\n",
    "kolak = int(input(\"isikan jumlah kolak:\"))\n",
    "esBuah = int(input(\"isikan jumlah esBuah:\"))\n",
    "\n",
    "totalPisang = pisang * 13000\n",
    "totalKolak = kolak * 7000\n",
    "totalEsBuah = esBuah * 15000\n",
    "\n",
    "print(\"pisang\",pisang,\"* 13000 =\",totalPisang)\n",
    "print(\"kolak\",kolak,\"* 7000 =\",totalKolak)\n",
    "print(\"esBuah\",esBuah,\"* 15000 =\",totalEsBuah)\n",
    "print(\"==========================\")\n",
    "totalBelanja = totalPisang + totalKolak + totalEsBuah\n",
    "print(\"total belanja :\", totalBelanja)\n",
    "discount = 5 if totalBelanja > 25000 else 0\n",
    "print(\"total Discount:\",discount,\"% ->\",totalBelanja * (discount/100))\n",
    "print(\"total bayar:\",totalBelanja - (totalBelanja * (discount/100)))"
   ]
  },
  {
   "cell_type": "code",
   "execution_count": null,
   "id": "e009e0f9-e12b-416a-bf86-688a09234908",
   "metadata": {},
   "outputs": [],
   "source": []
  }
 ],
 "metadata": {
  "kernelspec": {
   "display_name": "Python [conda env:base] *",
   "language": "python",
   "name": "conda-base-py"
  },
  "language_info": {
   "codemirror_mode": {
    "name": "ipython",
    "version": 3
   },
   "file_extension": ".py",
   "mimetype": "text/x-python",
   "name": "python",
   "nbconvert_exporter": "python",
   "pygments_lexer": "ipython3",
   "version": "3.12.7"
  }
 },
 "nbformat": 4,
 "nbformat_minor": 5
}
