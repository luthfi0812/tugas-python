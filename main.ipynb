{
 "cells": [
  {
   "cell_type": "code",
   "execution_count": 1,
   "id": "d5c6c281-a739-43aa-9915-c89e2c8eaa00",
   "metadata": {},
   "outputs": [
    {
     "name": "stdout",
     "output_type": "stream",
     "text": [
      "60\n",
      "8\n",
      "24\n"
     ]
    }
   ],
   "source": [
    "import aritmathic.math as m\n",
    "\n",
    "print(m.add(10,20,30))\n",
    "print(m.pow(2,3))\n",
    "print(m.multiply(1,2,3,4))"
   ]
  },
  {
   "cell_type": "code",
   "execution_count": null,
   "id": "202aa79e-6c65-48e9-92e2-5de98ca235f9",
   "metadata": {},
   "outputs": [],
   "source": [
    "import convert.convert as c"
   ]
  },
  {
   "cell_type": "code",
   "execution_count": 3,
   "id": "6af8d0d1-3614-41eb-8833-4c3076c4878e",
   "metadata": {},
   "outputs": [
    {
     "name": "stdin",
     "output_type": "stream",
     "text": [
      "Isikan panjang (cm): 100\n"
     ]
    },
    {
     "name": "stdout",
     "output_type": "stream",
     "text": [
      "Panjang dalam meter:1.0\n"
     ]
    }
   ],
   "source": [
    "from convert.convert import cmToMeter as cm\n",
    "\n",
    "panjang = int(input(\"Isikan panjang (cm):\"))\n",
    "print(f\"Panjang dalam meter:{cm(panjang)}\")"
   ]
  },
  {
   "cell_type": "code",
   "execution_count": null,
   "id": "9dcbe923-12d1-4935-b911-f89279a55854",
   "metadata": {},
   "outputs": [],
   "source": [
    "import bilangan.bilangan as b"
   ]
  },
  {
   "cell_type": "code",
   "execution_count": null,
   "id": "8d764319-beb5-443a-b43f-8daf33e58e47",
   "metadata": {},
   "outputs": [
    {
     "name": "stdout",
     "output_type": "stream",
     "text": [
      "\n",
      "    1. Aritmatika\n",
      "    2. Convert\n",
      "    3. Bilangan\n",
      "    4. Exit\n",
      "    \n"
     ]
    }
   ],
   "source": [
    "def menuUtama():\n",
    "    print(\"\"\"\n",
    "    1. Aritmatika\n",
    "    2. Convert\n",
    "    3. Bilangan\n",
    "    4. Exit\n",
    "    \"\"\")\n",
    "\n",
    "def menuAritmatika():\n",
    "    print(\"\"\"\n",
    "    1. Add\n",
    "    2. Pow\n",
    "    3. Multiply\n",
    "    \"\"\")\n",
    "\n",
    "def menuConvert():\n",
    "    print(\"\"\"\n",
    "    1. cm To Meter\n",
    "    2. Meter To Cm\n",
    "    \"\"\")\n",
    "\n",
    "def menuBilangan():\n",
    "    print(\"\"\"\n",
    "    1. desimal Ke Biner\n",
    "    2. desimal Ke Oktal\n",
    "    3. desimal ke Hexadesimal\n",
    "    \"\"\")\n",
    "\n",
    "while True:\n",
    "    menuUtama()\n",
    "    pilihMenu = int(input(\"Isikan Pilihan:\"))\n",
    "    if pilihMenu==1:\n",
    "        menuAritmatika()\n",
    "        pilihAritmatika = int(input(\"Isikan Pilihan Aritmatika: \"))\n",
    "        b1 = int(input(\"Isikan bilangan 1 : \"))\n",
    "        b2 = int(input(\"Isikan bilangan 2 : \"))\n",
    "        if pilihAritmatika==1:\n",
    "            print(m.add(b1,b2))\n",
    "        elif pilihAritmatika==2:\n",
    "            print(m.pow(b1,b2))\n",
    "        elif pilihAritmatika==3:\n",
    "            print(m.multiply(b1,b2))\n",
    "            break\n",
    "        \n",
    "    elif pilihMenu==2:\n",
    "        menuConvert()\n",
    "        pilihConvert = int(input(\"Isikan Pilihan Convert: \"))\n",
    "        p = int(input(\"Isikan Panjang : \"))\n",
    "        if pilihConvert==1:\n",
    "            print(c.cmToMeter(p))\n",
    "        elif pilihConvert==2:\n",
    "            print(c.meterToCm(p))\n",
    "            break\n",
    "            \n",
    "    elif pilihMenu==3:\n",
    "        menuBilangan()\n",
    "        pilihBilangan = int(input(\"Isikan Pilihan Ubah Bilangan: \"))\n",
    "        n = int(input(\"Isikan angka desimal : \"))\n",
    "        if pilihBilangan==1:\n",
    "            print(b.desimalToBiner(n))\n",
    "        elif pilihBilangan==2:\n",
    "            print(b.desimalToOktal(n))\n",
    "        elif pilihBilangan==3:\n",
    "            print(b.desimalToHexadesimal(n))\n",
    "            break\n",
    "\n",
    "    elif pilihMenu==4:\n",
    "        print(\"Thank You!!\")\n",
    "        break "
   ]
  }
 ],
 "metadata": {
  "kernelspec": {
   "display_name": "Python [conda env:base] *",
   "language": "python",
   "name": "conda-base-py"
  },
  "language_info": {
   "codemirror_mode": {
    "name": "ipython",
    "version": 3
   },
   "file_extension": ".py",
   "mimetype": "text/x-python",
   "name": "python",
   "nbconvert_exporter": "python",
   "pygments_lexer": "ipython3",
   "version": "3.12.7"
  }
 },
 "nbformat": 4,
 "nbformat_minor": 5
}
