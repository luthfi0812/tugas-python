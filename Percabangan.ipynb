{
 "cells": [
  {
   "cell_type": "markdown",
   "id": "5854a90d-e435-44ae-9e31-3bc520e011b1",
   "metadata": {
    "id": "5854a90d-e435-44ae-9e31-3bc520e011b1"
   },
   "source": [
    "Buatlah program yang meminta pengguna memasukkan usia seseorang, lalu tentukan apakah dia <br>\n",
    "anak-anak (0-12 tahun), remaja (13-17 tahun), dewasa (18-59 tahun), atau lansia (60 tahun ke atas)."
   ]
  },
  {
   "cell_type": "code",
   "execution_count": 4,
   "id": "75a2fdcd-1ef1-45e4-9d79-c6a7cb708a18",
   "metadata": {
    "id": "75a2fdcd-1ef1-45e4-9d79-c6a7cb708a18"
   },
   "outputs": [
    {
     "name": "stdin",
     "output_type": "stream",
     "text": [
      "Masukkan usia seseorang:  12\n"
     ]
    },
    {
     "name": "stdout",
     "output_type": "stream",
     "text": [
      "Anak-anak (0-12 tahun)\n"
     ]
    }
   ],
   "source": [
    "# Meminta pengguna untuk memasukkan usia\n",
    "usia = input(\"Masukkan usia seseorang: \")\n",
    "\n",
    "# Mengonversi input menjadi integer\n",
    "try:\n",
    "    usia = int(usia)\n",
    "    \n",
    "    # Menentukan kategori usia\n",
    "    if usia < 0:\n",
    "        print(\"Usia tidak valid.\")\n",
    "    elif usia <= 12:\n",
    "        print(\"Anak-anak (0-12 tahun)\")\n",
    "    elif usia <= 17:\n",
    "        print(\"Remaja (13-17 tahun)\")\n",
    "    elif usia <= 59:\n",
    "        print(\"Dewasa (18-59 tahun)\")\n",
    "    else:\n",
    "        print(\"Lansia (60 tahun ke atas)\")\n",
    "except ValueError:\n",
    "    print(\"Silakan masukkan angka yang valid.\")"
   ]
  },
  {
   "cell_type": "markdown",
   "id": "68c95835-e4ad-4bd0-89ca-168200893cf7",
   "metadata": {
    "id": "68c95835-e4ad-4bd0-89ca-168200893cf7"
   },
   "source": [
    "Sebuah taman hiburan memiliki aturan harga tiket berdasarkan usia:\n",
    "<ol>\n",
    "<li>Anak-anak (0-12 tahun): Rp 10.000</li>\n",
    "<li>Remaja (13-17 tahun): Rp 15.000</li>\n",
    "<li>Dewasa (18-59 tahun): Rp 25.000</li>\n",
    "<li>Lansia (60 tahun ke atas): Gratis</li>\n",
    "</ol>\n",
    "Buat program untuk menentukan harga tiket berdasarkan usia yang dimasukkan pengguna dan total harga yang harus dibayar, jika terdapat 3 input seperti berikut ini"
   ]
  },
  {
   "cell_type": "code",
   "execution_count": 6,
   "id": "66ee699f-8355-48e0-939a-dcc73ba4425b",
   "metadata": {
    "id": "66ee699f-8355-48e0-939a-dcc73ba4425b"
   },
   "outputs": [
    {
     "name": "stdin",
     "output_type": "stream",
     "text": [
      "Masukkan usia orang ke-1:  1\n"
     ]
    },
    {
     "name": "stdout",
     "output_type": "stream",
     "text": [
      "Harga tiket untuk anak-anak (0-12 tahun): Rp 10000\n"
     ]
    },
    {
     "name": "stdin",
     "output_type": "stream",
     "text": [
      "Masukkan usia orang ke-2:  1\n"
     ]
    },
    {
     "name": "stdout",
     "output_type": "stream",
     "text": [
      "Harga tiket untuk anak-anak (0-12 tahun): Rp 10000\n"
     ]
    },
    {
     "name": "stdin",
     "output_type": "stream",
     "text": [
      "Masukkan usia orang ke-3:  1\n"
     ]
    },
    {
     "name": "stdout",
     "output_type": "stream",
     "text": [
      "Harga tiket untuk anak-anak (0-12 tahun): Rp 10000\n",
      "\n",
      "Total harga yang harus dibayar: Rp 30000\n"
     ]
    }
   ],
   "source": [
    "# Inisialisasi total harga\n",
    "total_harga = 0\n",
    "\n",
    "# Daftar untuk menyimpan usia\n",
    "usia_list = []\n",
    "\n",
    "# Meminta pengguna untuk memasukkan usia tiga orang\n",
    "for i in range(3):\n",
    "    usia = input(f\"Masukkan usia orang ke-{i + 1}: \")\n",
    "    \n",
    "    # Mengonversi input menjadi integer\n",
    "    try:\n",
    "        usia = int(usia)\n",
    "        usia_list.append(usia)\n",
    "        \n",
    "        # Menentukan harga tiket berdasarkan usia\n",
    "        if usia < 0:\n",
    "            print(\"Usia tidak valid.\")\n",
    "            continue  # Lewati iterasi ini jika usia tidak valid\n",
    "        elif usia <= 12:\n",
    "            harga = 10000\n",
    "            print(f\"Harga tiket untuk anak-anak (0-12 tahun): Rp {harga}\")\n",
    "        elif usia <= 17:\n",
    "            harga = 15000\n",
    "            print(f\"Harga tiket untuk remaja (13-17 tahun): Rp {harga}\")\n",
    "        elif usia <= 59:\n",
    "            harga = 25000\n",
    "            print(f\"Harga tiket untuk dewasa (18-59 tahun): Rp {harga}\")\n",
    "        else:\n",
    "            harga = 0\n",
    "            print(\"Harga tiket untuk lansia (60 tahun ke atas): Gratis\")\n",
    "        \n",
    "        # Menambahkan harga ke total\n",
    "        total_harga += harga\n",
    "        \n",
    "    except ValueError:\n",
    "        print(\"Silakan masukkan angka yang valid.\")\n",
    "\n",
    "# Menampilkan total harga yang harus dibayar\n",
    "print(f\"\\nTotal harga yang harus dibayar: Rp {total_harga}\")"
   ]
  },
  {
   "cell_type": "markdown",
   "id": "82eac646-d930-42f5-a253-03f84c32f943",
   "metadata": {
    "id": "82eac646-d930-42f5-a253-03f84c32f943"
   },
   "source": [
    "Sebuah restoran memiliki diskon khusus:\n",
    "Anak-anak (0-12 tahun) diskon 50%\n",
    "Lansia (60 tahun ke atas) diskon 30%\n",
    "Selain itu, tidak ada diskon\n",
    "Buat program untuk menghitung harga yang harus dibayar setelah diskon diberikan."
   ]
  },
  {
   "cell_type": "code",
   "execution_count": null,
   "id": "feb31fca-fce6-4e5f-a25f-8752e7a0033b",
   "metadata": {
    "id": "feb31fca-fce6-4e5f-a25f-8752e7a0033b"
   },
   "outputs": [],
   "source": [
    "# add code here ..."
   ]
  },
  {
   "cell_type": "markdown",
   "id": "aee8bab3-9bf1-4732-97e1-7abb32ce7184",
   "metadata": {
    "id": "aee8bab3-9bf1-4732-97e1-7abb32ce7184"
   },
   "source": [
    "Program beasiswa:\n",
    "<ol>\n",
    "<li>Jika nilai rapor ≥ 90 dan penghasilan orang tua < Rp 5.000.000 → Beasiswa Penuh</li>\n",
    "<li>Jika nilai rapor ≥ 85 dan penghasilan orang tua < Rp 8.000.000 → Beasiswa 50%</li>\n",
    "<li>Jika tidak memenuhi syarat di atas → Tidak mendapatkan beasiswa</li>\n",
    "</ol>"
   ]
  },
  {
   "cell_type": "code",
   "execution_count": 13,
   "id": "55a9ec4f-531b-4326-bca3-e0d19b4be47d",
   "metadata": {
    "id": "55a9ec4f-531b-4326-bca3-e0d19b4be47d"
   },
   "outputs": [
    {
     "name": "stdin",
     "output_type": "stream",
     "text": [
      "Masukkan nilai rapor (0-100):  10\n",
      "Masukkan penghasilan orang tua (dalam Rp):  100\n"
     ]
    },
    {
     "name": "stdout",
     "output_type": "stream",
     "text": [
      "Status Beasiswa: Tidak mendapatkan beasiswa\n"
     ]
    }
   ],
   "source": [
    "# Meminta pengguna untuk memasukkan nilai rapor\n",
    "nilai_rapor = input(\"Masukkan nilai rapor (0-100): \")\n",
    "\n",
    "# Meminta pengguna untuk memasukkan penghasilan orang tua\n",
    "penghasilan_orang_tua = input(\"Masukkan penghasilan orang tua (dalam Rp): \")\n",
    "\n",
    "try:\n",
    "    # Mengonversi input menjadi tipe data yang sesuai\n",
    "    nilai_rapor = float(nilai_rapor)\n",
    "    penghasilan_orang_tua = float(penghasilan_orang_tua)\n",
    "\n",
    "    # Menentukan jenis beasiswa berdasarkan kriteria\n",
    "    if nilai_rapor >= 90 and penghasilan_orang_tua < 5000000:\n",
    "        print(\"Status Beasiswa: Beasiswa Penuh\")\n",
    "    elif nilai_rapor >= 85 and penghasilan_orang_tua < 8000000:\n",
    "        print(\"Status Beasiswa: Beasiswa 50%\")\n",
    "    else:\n",
    "        print(\"Status Beasiswa: Tidak mendapatkan beasiswa\")\n",
    "\n",
    "except ValueError:\n",
    "    print(\"Silakan masukkan nilai dan penghasilan yang valid.\")"
   ]
  },
  {
   "cell_type": "markdown",
   "id": "57ea9062-e1af-4650-8eab-a47a01a9d04f",
   "metadata": {
    "id": "57ea9062-e1af-4650-8eab-a47a01a9d04f"
   },
   "source": [
    "Suatu aplikasi streaming memiliki batasan usia:\n",
    "<ol>\n",
    "<li>Film Semua Umur: Bisa ditonton oleh siapa saja</li>\n",
    "<li>Film Remaja: Hanya untuk usia ≥ 13 tahun</li>\n",
    "<li>Film Dewasa: Hanya untuk usia ≥ 18 tahun</li>\n",
    "</ol>\n",
    "Buat program yang meminta input usia dan kategori film, lalu tentukan apakah seseorang boleh menonton film tersebut atau tidak."
   ]
  },
  {
   "cell_type": "code",
   "execution_count": 15,
   "id": "2c00f464-3390-4c94-9ec2-4b63c55b871b",
   "metadata": {
    "id": "2c00f464-3390-4c94-9ec2-4b63c55b871b"
   },
   "outputs": [
    {
     "name": "stdin",
     "output_type": "stream",
     "text": [
      "Masukkan usia Anda:  10\n",
      "Masukkan kategori film (Semua Umur, Remaja, Dewasa):  semuaumur\n"
     ]
    },
    {
     "name": "stdout",
     "output_type": "stream",
     "text": [
      "Kategori film tidak valid. Silakan masukkan 'Semua Umur', 'Remaja', atau 'Dewasa'.\n"
     ]
    }
   ],
   "source": [
    "# Meminta pengguna untuk memasukkan usia\n",
    "usia = input(\"Masukkan usia Anda: \")\n",
    "\n",
    "# Meminta pengguna untuk memasukkan kategori film\n",
    "kategori_film = input(\"Masukkan kategori film (Semua Umur, Remaja, Dewasa): \")\n",
    "\n",
    "try:\n",
    "    # Mengonversi input usia menjadi integer\n",
    "    usia = int(usia)\n",
    "\n",
    "    # Menentukan apakah seseorang boleh menonton film berdasarkan kategori\n",
    "    if kategori_film.lower() == \"semua umur\":\n",
    "        print(\"Anda boleh menonton film ini.\")\n",
    "    elif kategori_film.lower() == \"remaja\":\n",
    "        if usia >= 13:\n",
    "            print(\"Anda boleh menonton film ini.\")\n",
    "        else:\n",
    "            print(\"Anda tidak boleh menonton film ini.\")\n",
    "    elif kategori_film.lower() == \"dewaasa\":\n",
    "        if usia >= 18:\n",
    "            print(\"Anda boleh menonton film ini.\")\n",
    "        else:\n",
    "            print(\"Anda tidak boleh menonton film ini.\")\n",
    "    else:\n",
    "        print(\"Kategori film tidak valid. Silakan masukkan 'Semua Umur', 'Remaja', atau 'Dewasa'.\")\n",
    "\n",
    "except ValueError:\n",
    "    print(\"Silakan masukkan usia yang valid.\")"
   ]
  },
  {
   "cell_type": "markdown",
   "id": "7b87c04c-85f0-4dc1-a14a-f67d8b2c4e6a",
   "metadata": {
    "id": "7b87c04c-85f0-4dc1-a14a-f67d8b2c4e6a"
   },
   "source": [
    "Sebuah toko memberikan diskon berdasarkan jumlah pembelian:\n",
    "<ol>\n",
    "<li>Jika total belanja ≥ Rp 500.000 → Diskon 20%</li>\n",
    "<li>Jika total belanja ≥ Rp 250.000 → Diskon 10%</li>\n",
    "<li>Jika total belanja < Rp 250.000 → Tidak ada diskon</li>\n",
    "</ol>\n",
    "Hitung harga akhir setelah diskon."
   ]
  },
  {
   "cell_type": "code",
   "execution_count": 17,
   "id": "966923a0-c87b-4559-8fc1-3090d448ad4a",
   "metadata": {
    "id": "966923a0-c87b-4559-8fc1-3090d448ad4a"
   },
   "outputs": [
    {
     "name": "stdin",
     "output_type": "stream",
     "text": [
      "Masukkan total belanja Anda (dalam Rp):  100\n"
     ]
    },
    {
     "name": "stdout",
     "output_type": "stream",
     "text": [
      "Total belanja: Rp 100.00\n",
      "Diskon: 0%\n",
      "Harga akhir setelah diskon: Rp 100.00\n"
     ]
    }
   ],
   "source": [
    "# Meminta pengguna untuk memasukkan total belanja\n",
    "total_belanja = input(\"Masukkan total belanja Anda (dalam Rp): \")\n",
    "\n",
    "try:\n",
    "    # Mengonversi input menjadi float\n",
    "    total_belanja = float(total_belanja)\n",
    "\n",
    "    # Menentukan diskon berdasarkan total belanja\n",
    "    if total_belanja >= 500000:\n",
    "        diskon = 0.20  # Diskon 20%\n",
    "    elif total_belanja >= 250000:\n",
    "        diskon = 0.10  # Diskon 10%\n",
    "    else:\n",
    "        diskon = 0.0   # Tidak ada diskon\n",
    "\n",
    "    # Menghitung harga akhir setelah diskon\n",
    "    harga_akhir = total_belanja * (1 - diskon)\n",
    "\n",
    "    # Menampilkan hasil\n",
    "    print(f\"Total belanja: Rp {total_belanja:.2f}\")\n",
    "    print(f\"Diskon: {diskon * 100:.0f}%\")\n",
    "    print(f\"Harga akhir setelah diskon: Rp {harga_akhir:.2f}\")\n",
    "\n",
    "except ValueError:\n",
    "    print(\"Silakan masukkan total belanja yang valid.\")"
   ]
  },
  {
   "cell_type": "markdown",
   "id": "88e22629-48cc-4917-86e7-2bf4df863182",
   "metadata": {
    "id": "88e22629-48cc-4917-86e7-2bf4df863182"
   },
   "source": [
    "Program parkir:\n",
    "<ol>\n",
    "<li>Mobil: Rp 5.000 per jam</li>\n",
    "<li>Motor: Rp 2.000 per jam</li>\n",
    "<li>Jika parkir lebih dari 5 jam, ada biaya tambahan Rp 10.000</li>\n",
    "</ol>\n",
    "Hitung total biaya parkir berdasarkan jenis kendaraan dan durasi parkir."
   ]
  },
  {
   "cell_type": "code",
   "execution_count": 19,
   "id": "b8f7b918-70a1-4a88-945f-406c4aafbec7",
   "metadata": {
    "id": "b8f7b918-70a1-4a88-945f-406c4aafbec7"
   },
   "outputs": [
    {
     "name": "stdin",
     "output_type": "stream",
     "text": [
      "Masukkan jenis kendaraan (Mobil/Motor):  mobil\n",
      "Masukkan durasi parkir (dalam jam):  1\n"
     ]
    },
    {
     "name": "stdout",
     "output_type": "stream",
     "text": [
      "Total biaya parkir untuk Mobil selama 1 jam: Rp 5000\n"
     ]
    }
   ],
   "source": [
    "# Meminta pengguna untuk memasukkan jenis kendaraan\n",
    "jenis_kendaraan = input(\"Masukkan jenis kendaraan (Mobil/Motor): \").strip().lower()\n",
    "\n",
    "# Meminta pengguna untuk memasukkan durasi parkir dalam jam\n",
    "durasi_parkir = input(\"Masukkan durasi parkir (dalam jam): \")\n",
    "\n",
    "try:\n",
    "    # Mengonversi durasi parkir menjadi integer\n",
    "    durasi_parkir = int(durasi_parkir)\n",
    "\n",
    "    # Menentukan tarif per jam dan biaya tambahan\n",
    "    if jenis_kendaraan == \"mobil\":\n",
    "        tarif_per_jam = 5000\n",
    "    elif jenis_kendaraan == \"motor\":\n",
    "        tarif_per_jam = 2000\n",
    "    else:\n",
    "        print(\"Jenis kendaraan tidak valid. Silakan masukkan 'Mobil' atau 'Motor'.\")\n",
    "        exit()\n",
    "\n",
    "    # Menghitung total biaya parkir\n",
    "    total_biaya = durasi_parkir * tarif_per_jam\n",
    "\n",
    "    # Menambahkan biaya tambahan jika durasi parkir lebih dari 5 jam\n",
    "    if durasi_parkir > 5:\n",
    "        total_biaya += 10000\n",
    "\n",
    "    # Menampilkan hasil\n",
    "    print(f\"Total biaya parkir untuk {jenis_kendaraan.capitalize()} selama {durasi_parkir} jam: Rp {total_biaya}\")\n",
    "\n",
    "except ValueError:\n",
    "    print(\"Silakan masukkan durasi parkir yang valid.\")"
   ]
  },
  {
   "cell_type": "markdown",
   "id": "2db1d34c-3f80-4f8c-aaf2-910c38c05414",
   "metadata": {
    "id": "2db1d34c-3f80-4f8c-aaf2-910c38c05414"
   },
   "source": [
    "Aplikasi transportasi online memiliki tarif sebagai berikut:\n",
    "<ol>\n",
    "<li>Jika jarak ≤ 5 km → Rp 5.000/km</li>\n",
    "<li>Jika jarak 6-10 km → Rp 4.000/km</li>\n",
    "<li>Jika jarak > 10 km → Rp 3.000/km</li>\n",
    "</ol>\n",
    "Hitung tarif perjalanan berdasarkan jarak yang dimasukkan pengguna.\n"
   ]
  },
  {
   "cell_type": "code",
   "execution_count": 23,
   "id": "5a5b719e-76f6-4f45-a8e4-07853113ce9e",
   "metadata": {
    "id": "5a5b719e-76f6-4f45-a8e4-07853113ce9e"
   },
   "outputs": [
    {
     "name": "stdin",
     "output_type": "stream",
     "text": [
      "Masukkan jarak perjalanan (dalam km):  12\n"
     ]
    },
    {
     "name": "stdout",
     "output_type": "stream",
     "text": [
      "Jarak perjalanan: 12.0 km\n",
      "Tarif per km: Rp 3000\n",
      "Total tarif perjalanan: Rp 36000.00\n"
     ]
    }
   ],
   "source": [
    "# Meminta pengguna untuk memasukkan jarak perjalanan dalam km\n",
    "jarak = input(\"Masukkan jarak perjalanan (dalam km): \")\n",
    "\n",
    "try:\n",
    "    # Mengonversi jarak menjadi float\n",
    "    jarak = float(jarak)\n",
    "\n",
    "    # Menentukan tarif berdasarkan jarak\n",
    "    if jarak <= 5:\n",
    "        tarif_per_km = 5000\n",
    "    elif 6 <= jarak <= 10:\n",
    "        tarif_per_km = 4000\n",
    "    else:  # jarak > 10\n",
    "        tarif_per_km = 3000\n",
    "\n",
    "    # Menghitung total tarif perjalanan\n",
    "    total_tarif = jarak * tarif_per_km\n",
    "\n",
    "    # Menampilkan hasil\n",
    "    print(f\"Jarak perjalanan: {jarak} km\")\n",
    "    print(f\"Tarif per km: Rp {tarif_per_km}\")\n",
    "    print(f\"Total tarif perjalanan: Rp {total_tarif:.2f}\")\n",
    "\n",
    "except ValueError:\n",
    "    print(\"Silakan masukkan jarak yang valid.\")"
   ]
  },
  {
   "cell_type": "markdown",
   "id": "d1cf7b61-e309-40ec-b1fd-4bc56550a10d",
   "metadata": {
    "id": "d1cf7b61-e309-40ec-b1fd-4bc56550a10d"
   },
   "source": [
    "Buatlah sebuah sistem penerimaan calon programmer yang akan menerima dua nilai ( nilai coding dan nilai interview). Untuk penilaian test coding skala penilaian yang diberikan dimulai dari 0 hingga 100 dengan sistem penilaian:\n",
    "<ol>\n",
    "<li>ketika seseorang mendapatkan nilai lebih dari 80 maka peserta tersebut akan mendapatkan hasil tes LOLOS</li>\n",
    "<li>ketika sesorang mendapatkan nilai diantara 60 hingga 80 maka peserta tersebut mendapatkan hasil tes DIPERTIMBANGKAN</li>\n",
    "<li>ketika seseorang mendapatkan nilai dibawah 60 maka peserta tersebut mendapatkan hasil tes GAGAL.</li>\n",
    "</ol>\n",
    "\n",
    "Sedangkan untuk penilaian interview adalah\n",
    "<ol>\n",
    "<li>ketika nilai yang diberikan kepada seseorang tersebut adalah \"A\" atau \"B\" maka peserta tersebut dianggap LOLOS interview</li>\n",
    "\n",
    "<li>selain kedua nilai tersebut maka peserta dianggap GAGAL tes interview.</li>\n",
    "</ol>\n",
    "\n",
    "Ketika calon programmer mendapatkan nilai coding LOLOS atau DIPERTIMBANGKAN dan juga LOLOS test interview maka tampilkanlah pesan \"Selamat Kamu Berhasil Menjadi Calon Programmer\". Jika tidak maka tampilkanlah pesan \"Maaf Kamu Belum Berhasil Menjadi Calon Programmer\""
   ]
  },
  {
   "cell_type": "code",
   "execution_count": 25,
   "id": "7aeb0f89-e957-4c0d-a29c-139fc269e1c0",
   "metadata": {
    "id": "7aeb0f89-e957-4c0d-a29c-139fc269e1c0"
   },
   "outputs": [
    {
     "name": "stdin",
     "output_type": "stream",
     "text": [
      "Masukkan nilai coding (0-100):  100\n",
      "Masukkan nilai interview (A/B):  a\n"
     ]
    },
    {
     "name": "stdout",
     "output_type": "stream",
     "text": [
      "Selamat Kamu Berhasil Menjadi Calon Programmer\n"
     ]
    }
   ],
   "source": [
    "# Meminta pengguna untuk memasukkan nilai coding\n",
    "nilai_coding = input(\"Masukkan nilai coding (0-100): \")\n",
    "\n",
    "# Meminta pengguna untuk memasukkan nilai interview\n",
    "nilai_interview = input(\"Masukkan nilai interview (A/B): \")\n",
    "\n",
    "try:\n",
    "    # Mengonversi nilai coding menjadi integer\n",
    "    nilai_coding = int(nilai_coding)\n",
    "\n",
    "    # Menentukan hasil tes coding\n",
    "    if nilai_coding > 80:\n",
    "        hasil_coding = \"LOLOS\"\n",
    "    elif 60 <= nilai_coding <= 80:\n",
    "        hasil_coding = \"DIPERTIMBANGKAN\"\n",
    "    else:\n",
    "        hasil_coding = \"GAGAL\"\n",
    "\n",
    "    # Menentukan hasil tes interview\n",
    "    if nilai_interview.upper() in [\"A\", \"B\"]:\n",
    "        hasil_interview = \"LOLOS\"\n",
    "    else:\n",
    "        hasil_interview = \"GAGAL\"\n",
    "\n",
    "    # Menentukan hasil akhir\n",
    "    if (hasil_coding in [\"LOLOS\", \"DIPERTIMBANGKAN\"]) and (hasil_interview == \"LOLOS\"):\n",
    "        print(\"Selamat Kamu Berhasil Menjadi Calon Programmer\")\n",
    "    else:\n",
    "        print(\"Maaf Kamu Belum Berhasil Menjadi Calon Programmer\")\n",
    "\n",
    "except ValueError:\n",
    "    print(\"Silakan masukkan nilai coding yang valid (0-100) dan nilai interview (A/B).\")"
   ]
  },
  {
   "cell_type": "markdown",
   "id": "364647af-075b-4bc0-8c83-4c816415ff74",
   "metadata": {
    "id": "364647af-075b-4bc0-8c83-4c816415ff74"
   },
   "source": [
    "Sebuah klub sepak bola “PERSEGI FC” mempunyai aturan dalam memberikan nomor punggung bagi para pemainnya. Para pemain diperbolehkan mempunyai posisi lebih dari 1. Berikut adalah beberapa\n",
    "aturannya:\n",
    "<ol>\n",
    "<li>Untuk nomor punggung genap, digunakan untuk posisi “target attacker”</li>\n",
    "<li>Untuk nomor punggung genap antara 50 – 100, digunakan untuk pemain yang “berhak dipilih menjadi capten team”</li>\n",
    "<li>Untuk nomor punggung ganjil, digunakan untuk posisi “defender”</li>\n",
    "<li>Untuk nomor punggung ganjil lebih dari 90, digunakan untuk posisi “Playmaker”</li>\n",
    "<li>Untuk nomor punggung ganjil kelipatan dari 3 dan 5, digunakan untuk posisi “keeper”</li>\n",
    "</ol>\n",
    "Buatlah program untuk melakukan pengecekan sebuah nomor punggung dapat berfungsi sebagai posisi apa saja."
   ]
  },
  {
   "cell_type": "code",
   "execution_count": null,
   "id": "2d1d5589-126b-44e3-9d9e-1bed865ff65c",
   "metadata": {
    "id": "2d1d5589-126b-44e3-9d9e-1bed865ff65c"
   },
   "outputs": [],
   "source": [
    "# Meminta pengguna untuk memasukkan nomor punggung\n",
    "nomor_punggung = input(\"Masukkan nomor punggung pemain: \")\n",
    "\n",
    "try:\n",
    "    # Mengonversi nomor punggung menjadi integer\n",
    "    nomor_punggung = int(nomor_punggung)\n",
    "\n",
    "    # Menyimpan posisi yang mungkin\n",
    "    posisi = []\n",
    "\n",
    "    # Mengecek posisi berdasarkan nomor punggung\n",
    "    if nomor_punggung % 2 == 0:  # Nomor punggung genap\n",
    "        posisi.append(\"target attacker\")\n",
    "        if 50 <= nomor_punggung <= 100:\n",
    "            posisi.append(\"berhak dipilih menjadi captain team\")\n",
    "    else:  # Nomor punggung ganjil\n",
    "        posisi.append(\"defender\")\n",
    "        if nomor_punggung > 90:\n",
    "            posisi.append(\"playmaker\")\n",
    "        if nomor_punggung % 3 == 0 and nomor_punggung % 5 == 0:\n",
    "            posisi.append(\"keeper\")\n",
    "\n",
    "    # Menampilkan hasil\n",
    "    if posisi:\n",
    "        print(f\"Nomor punggung {nomor_punggung} dapat digunakan untuk posisi: {', '.join(posisi)}\")\n",
    "    else:\n",
    "        print(f\"Nomor punggung {nomor_punggung} tidak sesuai dengan posisi manapun.\")\n",
    "\n",
    "except ValueError:\n",
    "    print(\"Silakan masukkan nomor punggung yang valid.\")"
   ]
  },
  {
   "cell_type": "code",
   "execution_count": null,
   "id": "623fb637-cde8-45f6-8618-8ba5600d443e",
   "metadata": {},
   "outputs": [],
   "source": []
  },
  {
   "cell_type": "code",
   "execution_count": null,
   "id": "dc54fa72-f99c-464c-8096-1ef2259e1cc4",
   "metadata": {},
   "outputs": [],
   "source": []
  }
 ],
 "metadata": {
  "colab": {
   "provenance": []
  },
  "kernelspec": {
   "display_name": "Python [conda env:base] *",
   "language": "python",
   "name": "conda-base-py"
  },
  "language_info": {
   "codemirror_mode": {
    "name": "ipython",
    "version": 3
   },
   "file_extension": ".py",
   "mimetype": "text/x-python",
   "name": "python",
   "nbconvert_exporter": "python",
   "pygments_lexer": "ipython3",
   "version": "3.12.7"
  }
 },
 "nbformat": 4,
 "nbformat_minor": 5
}
