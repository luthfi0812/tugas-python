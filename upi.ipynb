{
 "cells": [
  {
   "cell_type": "code",
   "execution_count": 46,
   "id": "b38f3d56-86a3-403f-ab71-341a12227056",
   "metadata": {},
   "outputs": [
    {
     "name": "stdin",
     "output_type": "stream",
     "text": [
      "Isikan NIlai X : 12\n",
      "Isikan NIlai Y : 15\n"
     ]
    },
    {
     "name": "stdout",
     "output_type": "stream",
     "text": [
      "Hasil Penjumlahan 12 + 15 = 27\n",
      "Hasil Pengurangan 12 - 15 = -3\n",
      "Hasil Perkalian 12 * 15 = 180\n",
      "Hasil Pembagian 12 / 15 = 0.8\n",
      "Hasil Modulus 12 % 15 = 12\n",
      "Hasil Pangkat 12 ** 15 = 15407021574586368\n",
      "Hasil Bagi Bulat 12 // 15 = 0\n"
     ]
    }
   ],
   "source": [
    "x = int(input(\"Isikan NIlai X :\"))\n",
    "y = int(input(\"Isikan NIlai Y :\"))\n",
    "\n",
    "hasilTambah = x + y\n",
    "hasilKurang = x - y\n",
    "hasilKali = x * y\n",
    "hasilBagi = x / y\n",
    "hasilMod = x % y\n",
    "hasilPangkat = x ** y\n",
    "hasilBagiBulat = x // y\n",
    "\n",
    "print(\"Hasil Penjumlahan\",x,\"+\",y,\"=\",hasilTambah)\n",
    "print(\"Hasil Pengurangan\",x,\"-\",y,\"=\",hasilKurang)\n",
    "print(\"Hasil Perkalian\",x,\"*\",y,\"=\",hasilKali)\n",
    "print(\"Hasil Pembagian\",x,\"/\",y,\"=\",hasilBagi)\n",
    "print(\"Hasil Modulus\",x,\"%\",y,\"=\",hasilMod)\n",
    "print(\"Hasil Pangkat\",x,\"**\",y,\"=\",hasilPangkat)\n",
    "print(\"Hasil Bagi Bulat\",x,\"//\",y,\"=\",hasilBagiBulat)"
   ]
  },
  {
   "cell_type": "code",
   "execution_count": 15,
   "id": "a930f456-25e6-4909-966a-cc7a12b6cee1",
   "metadata": {},
   "outputs": [
    {
     "name": "stdin",
     "output_type": "stream",
     "text": [
      "Isikan Nilai : 8\n"
     ]
    },
    {
     "name": "stdout",
     "output_type": "stream",
     "text": [
      "nilai dari variabel <nilai> adalah: 8\n",
      "nilai setelah ditambahkan dengan 2 adalah: 13\n",
      "nilai setelah dikurang dengan 12 adalah: 3\n",
      "nilai setelah dikalikann dengan 4 adalah: 12\n",
      "nilai setelah dibagikan dengan 2 adalah: 6.0\n",
      "nilai setelah dimodulus dengan 5 adalah: 1.0\n",
      "nilai setelah dipangkatkan dengan 3 adalah: 1.0\n",
      "nilai setelah dibagibulatkan dengan 6 adalah: 0.0\n"
     ]
    }
   ],
   "source": [
    "nilai = int(input(\"Isikan Nilai :\"))\n",
    "print(\"nilai dari variabel <nilai> adalah:\",nilai)\n",
    "nilai+=5\n",
    "print(\"nilai setelah ditambahkan dengan 2 adalah:\",nilai)\n",
    "nilai-=10\n",
    "print(\"nilai setelah dikurang dengan 12 adalah:\",nilai)\n",
    "nilai*=4\n",
    "print(\"nilai setelah dikalikann dengan 4 adalah:\",nilai)\n",
    "nilai/=2\n",
    "print(\"nilai setelah dibagikan dengan 2 adalah:\",nilai)\n",
    "nilai%=5\n",
    "print(\"nilai setelah dimodulus dengan 5 adalah:\",nilai)\n",
    "nilai**=3\n",
    "print(\"nilai setelah dipangkatkan dengan 3 adalah:\",nilai)\n",
    "nilai//=6\n",
    "print(\"nilai setelah dibagibulatkan dengan 6 adalah:\",nilai)"
   ]
  },
  {
   "cell_type": "code",
   "execution_count": 5,
   "id": "cd03da63-50f0-456f-a9a6-59e25485dbc4",
   "metadata": {},
   "outputs": [
    {
     "name": "stdin",
     "output_type": "stream",
     "text": [
      "isikan nilai 1: 20\n",
      "isikan nilai 2: 4\n"
     ]
    },
    {
     "name": "stdout",
     "output_type": "stream",
     "text": [
      "apakah 20 sama dengan 4 ? False\n",
      "apakah 20 tidak sama dengan 4 ? True\n",
      "apakah 20 lebih besar 4 ? True\n",
      "apakah 20 sama kecil 4 ? False\n",
      "apakah 20 lebih besar atau sama dengan 4 ? True\n",
      "apakah 20 lebih kecil atau sama dengan 4 ? False\n",
      "apakah 20 sama dengan 4 ? False\n"
     ]
    }
   ],
   "source": [
    "val1 = int(input(\"isikan nilai 1:\"))\n",
    "val2 = int(input(\"isikan nilai 2:\"))\n",
    "\n",
    "print(\"apakah\",val1,\"sama dengan\",val2,\"?\",val1==val2)\n",
    "print(\"apakah\",val1,\"tidak sama dengan\",val2,\"?\",val1!=val2)\n",
    "print(\"apakah\",val1,\"lebih besar\",val2,\"?\",val1>val2)\n",
    "print(\"apakah\",val1,\"sama kecil\",val2,\"?\",val1<val2)\n",
    "print(\"apakah\",val1,\"lebih besar atau sama dengan\",val2,\"?\",val1>=val2)\n",
    "print(\"apakah\",val1,\"lebih kecil atau sama dengan\",val2,\"?\",val1<=val2)\n",
    "print(\"apakah\",val1,\"sama dengan\",val2,\"?\",val1==val2)"
   ]
  },
  {
   "cell_type": "code",
   "execution_count": 17,
   "id": "014d52bf-6a8e-4923-b0e7-c56ef97f7244",
   "metadata": {},
   "outputs": [
    {
     "name": "stdin",
     "output_type": "stream",
     "text": [
      "Isikan Bilangan 1: 2\n",
      "Isikan Bilangan 2: 3\n"
     ]
    },
    {
     "name": "stdout",
     "output_type": "stream",
     "text": [
      "Apakah <num1> %2 = 0 and <num2> 4 False\n",
      "Apakah <num1> %2 = 0 and <num2> 4 True\n",
      "Apakah <num1> %2 = 0 and <num2> 4 False\n"
     ]
    }
   ],
   "source": [
    "num1 = int(input(\"Isikan Bilangan 1:\"))\n",
    "num2 = int(input(\"Isikan Bilangan 2:\"))\n",
    "\n",
    "print(\"Apakah <num1> %2 = 0 and <num2> 4\",num1 %2==0 and num2 > 4)\n",
    "print(\"Apakah <num1> %2 = 0 and <num2> 4\",num1 %2==0 or num2 > 4)\n",
    "print(\"Apakah <num1> %2 = 0 and <num2> 4\",not(num1) %2==0 and num2 > 4)"
   ]
  },
  {
   "cell_type": "code",
   "execution_count": 27,
   "id": "8b5c6650-adae-4917-9520-b8c4ff1fec4f",
   "metadata": {},
   "outputs": [
    {
     "name": "stdout",
     "output_type": "stream",
     "text": [
      "Alamat Memori number1: 140706638867160\n",
      "Alamat Memori number2: 2376114104832\n",
      "Alamat Memori number3: 2376114104832\n",
      "False\n",
      "True\n",
      "True\n"
     ]
    }
   ],
   "source": [
    "number1 = 10\n",
    "number2 = \"10\"\n",
    "number3=number2\n",
    "\n",
    "print(\"Alamat Memori number1:\",id(number1))\n",
    "print(\"Alamat Memori number2:\",id(number2))\n",
    "print(\"Alamat Memori number3:\",id(number3))\n",
    "print(number1 is number2)\n",
    "print(number2 is number3)\n",
    "print(number1 is not number2)"
   ]
  },
  {
   "cell_type": "code",
   "execution_count": 31,
   "id": "3b3e8542-8ff6-4132-95b5-22ccba972fa2",
   "metadata": {},
   "outputs": [
    {
     "name": "stdout",
     "output_type": "stream",
     "text": [
      "False\n",
      "False\n",
      "True\n"
     ]
    }
   ],
   "source": [
    "nama = \"habibi\"\n",
    "print(\"p\" in nama)\n",
    "listPresiden = [\"Soekarno\",\"Soeharto\",\"Mega\",\"Gus Dur\"]\n",
    "print(nama in listPresiden)\n",
    "print(nama not in listPresiden)"
   ]
  },
  {
   "cell_type": "code",
   "execution_count": 60,
   "id": "5cbca959-8a71-447f-a292-4ae1f4279aeb",
   "metadata": {},
   "outputs": [
    {
     "name": "stdin",
     "output_type": "stream",
     "text": [
      "isikan bilangan 1: 22\n",
      "isikan bilangan 2: 33\n"
     ]
    },
    {
     "name": "stdout",
     "output_type": "stream",
     "text": [
      "0b10110\n",
      "0b100001\n",
      "---------&\n",
      "0b0 = 0\n",
      "0b10110\n",
      "0b100001\n",
      "---------&\n",
      "0b110111 = 55\n",
      "0b10110\n",
      "0b100001\n",
      "---------&\n",
      "0b110111 = 55\n",
      "0b10110 geser ke kiri sebanyak 33\n",
      "hasilnya adalah: 0b10110000000000000000000000000000000000 = 188978561024\n",
      "0b10110 geser ke kanan sebanyak 33\n",
      "hasilnya adalah: 0b10110000000000000000000000000000000000 = 188978561024\n"
     ]
    }
   ],
   "source": [
    "number1 = int(input(\"isikan bilangan 1:\"))\n",
    "number2 = int(input(\"isikan bilangan 2:\"))\n",
    "\n",
    "print(bin(number1))\n",
    "print(bin(number2))\n",
    "print(\"---------&\")\n",
    "print(bin(number1 & number2),\"=\",number1 & number2)\n",
    "\n",
    "print(bin(number1))\n",
    "print(bin(number2))\n",
    "print(\"---------&\")\n",
    "print(bin(number1 | number2),\"=\",number1 | number2)\n",
    "\n",
    "print(bin(number1))\n",
    "print(bin(number2))\n",
    "print(\"---------&\")\n",
    "print(bin(number1 ^ number2),\"=\",number1 ^ number2)\n",
    "\n",
    "print(bin(number1),\"geser ke kiri sebanyak\",number2)\n",
    "print(\"hasilnya adalah:\",bin(number1 << number2),\"=\",number1<<number2)\n",
    "\n",
    "print(bin(number1),\"geser ke kanan sebanyak\",number2)\n",
    "print(\"hasilnya adalah:\",bin(number1 << number2),\"=\",number1<<number2)\n"
   ]
  },
  {
   "cell_type": "code",
   "execution_count": 44,
   "id": "38b93fb9-69af-4fac-801a-2b5d3532c45e",
   "metadata": {},
   "outputs": [
    {
     "name": "stdin",
     "output_type": "stream",
     "text": [
      "isikan bilangan: 3\n"
     ]
    },
    {
     "name": "stdout",
     "output_type": "stream",
     "text": [
      "3 adalah bilangan ganjil\n"
     ]
    }
   ],
   "source": [
    "\n",
    "#bilangan ganjil atau genap\n",
    "\n",
    "number = int(input(\"isikan bilangan:\"))\n",
    "oddEven = \"genap\" if number % 2==0 else \"ganjil\"\n",
    "print(number, \"adalah bilangan\",oddEven)"
   ]
  },
  {
   "cell_type": "code",
   "execution_count": 56,
   "id": "e8959f09-be33-4c69-9a10-ae8528ee5459",
   "metadata": {},
   "outputs": [
    {
     "name": "stdin",
     "output_type": "stream",
     "text": [
      "isikan jumlah pisang: 22\n",
      "isikan jumlah kolak: 33\n",
      "isikan jumlah esBuah: 44\n"
     ]
    },
    {
     "name": "stdout",
     "output_type": "stream",
     "text": [
      "Pisang 13.0 *13000 = 169000.0\n",
      "Kolak 7.0 *7000 = 49000.0\n",
      "esBuah 15.0 *15000 = 225000.0\n",
      "======================\n",
      "Total belanja : 443000.0\n",
      "Total Discount: 5 % -> 22150.0\n",
      "Total Bayar: 420850.0\n"
     ]
    }
   ],
   "source": [
    "a = 13.000\n",
    "b = 7.000\n",
    "c = 15.000\n",
    "\n",
    "pisang = int(input(\"isikan jumlah pisang:\"))\n",
    "kolak = int(input(\"isikan jumlah kolak:\"))\n",
    "esBuah = int(input(\"isikan jumlah esBuah:\"))\n",
    "\n",
    "pisang=13.000\n",
    "kolak=7.000\n",
    "esBuah=15.000\n",
    "\n",
    "totalPisang = pisang * 13000\n",
    "totalKolak = kolak * 7000\n",
    "totalesBuah = esBuah * 15000 \n",
    "\n",
    "print(\"Pisang\",pisang,\"*13000 =\",totalPisang)\n",
    "print(\"Kolak\",kolak,\"*7000 =\",totalKolak)\n",
    "print(\"esBuah\",esBuah,\"*15000 =\",totalesBuah)\n",
    "print(\"======================\")\n",
    "totalBelanja = totalPisang + totalKolak + totalesBuah\n",
    "print(\"Total belanja :\", totalBelanja)\n",
    "discount = 5 if totalBelanja > 25000 else 0\n",
    "print(\"Total Discount:\",discount,\"% ->\",totalBelanja * (discount/100))\n",
    "print(\"Total Bayar:\", totalBelanja - (totalBelanja * (discount/100)))\n"
   ]
  }
 ],
 "metadata": {
  "kernelspec": {
   "display_name": "Python [conda env:base] *",
   "language": "python",
   "name": "conda-base-py"
  },
  "language_info": {
   "codemirror_mode": {
    "name": "ipython",
    "version": 3
   },
   "file_extension": ".py",
   "mimetype": "text/x-python",
   "name": "python",
   "nbconvert_exporter": "python",
   "pygments_lexer": "ipython3",
   "version": "3.12.7"
  }
 },
 "nbformat": 4,
 "nbformat_minor": 5
}
