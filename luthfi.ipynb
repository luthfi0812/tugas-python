{
 "cells": [
  {
   "cell_type": "markdown",
   "id": "9496834b",
   "metadata": {},
   "source": [
    "<center><img src=\"https://icon-icons.com/icons2/2108/PNG/512/python_icon_130849.png\" width=\"200\"></center><br>\n",
    "Pada jupyter notebooks jenis <b> terbagi menjadi\n",
    "<ol>\n",
    "    <li>M (Mark Down) -> M</li>\n",
    "    <li>Y (Code) -> Y</li>\n",
    "</ol>\n",
    "<hr>"
   ]
  },
  {
   "cell_type": "markdown",
   "id": "42607773",
   "metadata": {},
   "source": [
    "Cara menambahkan <b>cell</b> terbagi menjadi 2:\n",
    "<ul>\n",
    "    <li>A -(Above) Menambah diatas cell aktif</li>\n",
    "    <li>B -(Below) Menambah dibawah cell aktif</li>\n",
    "<ul>\n",
    "    \n",
    "<table>\n",
    "    <tr>\n",
    "        <td>Perintah</td>\n",
    "        <td>Keterangan</td>\n",
    "    </tr>\n",
    "    <tr>\n",
    "        <td>ctrl + enter</td>\n",
    "        <td>Running program dengan fokus di cell aktif</td>\n",
    "    </tr>\n",
    "    <tr>\n",
    "        <td>shift + enter</td>\n",
    "        <td>Running program dengan fokus di cell berikutnya</td>\n",
    "    </tr>\n",
    "    \n",
    "</table>"
   ]
  },
  {
   "cell_type": "code",
   "execution_count": 1,
   "id": "7ae78711",
   "metadata": {},
   "outputs": [
    {
     "name": "stdout",
     "output_type": "stream",
     "text": [
      "python is very easy\n",
      "5\n"
     ]
    },
    {
     "data": {
      "text/plain": [
       "8"
      ]
     },
     "execution_count": 1,
     "metadata": {},
     "output_type": "execute_result"
    }
   ],
   "source": [
    "# this is comment\n",
    "print(\"python is very easy\")\n",
    "data = \"5\"\n",
    "print(data)\n",
    "data\n",
    "4+4"
   ]
  }
 ],
 "metadata": {
  "kernelspec": {
   "display_name": "Python 3 (ipykernel)",
   "language": "python",
   "name": "python3"
  },
  "language_info": {
   "codemirror_mode": {
    "name": "ipython",
    "version": 3
   },
   "file_extension": ".py",
   "mimetype": "text/x-python",
   "name": "python",
   "nbconvert_exporter": "python",
   "pygments_lexer": "ipython3",
   "version": "3.9.12"
  }
 },
 "nbformat": 4,
 "nbformat_minor": 5
}
