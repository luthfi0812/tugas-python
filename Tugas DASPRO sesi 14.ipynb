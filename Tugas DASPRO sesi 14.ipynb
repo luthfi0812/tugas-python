{
 "cells": [
  {
   "cell_type": "code",
   "execution_count": null,
   "id": "c4bde0bb-2358-4a6e-aace-a4c5f9bce75b",
   "metadata": {},
   "outputs": [
    {
     "name": "stdout",
     "output_type": "stream",
     "text": [
      "\n",
      "Menu:\n",
      "1. Tambah Data Siswa\n",
      "2. Tampilkan Data\n",
      "3. Exit\n",
      "4. Cari Data\n"
     ]
    },
    {
     "name": "stdin",
     "output_type": "stream",
     "text": [
      "Pilih menu (1-4):  1\n",
      "Masukkan NIM (11 karakter):  20240040088\n",
      "Masukkan Nama (min 3 karakter):  Luthfi\n",
      "Masukkan Alamat (min 5 karakter):  jampang kulon\n",
      "Masukkan Kelas (TI24H, TI24F, TI24G, TI24A):  TI24H\n"
     ]
    },
    {
     "name": "stdout",
     "output_type": "stream",
     "text": [
      "Data berhasil ditambahkan.\n",
      "\n",
      "\n",
      "Menu:\n",
      "1. Tambah Data Siswa\n",
      "2. Tampilkan Data\n",
      "3. Exit\n",
      "4. Cari Data\n"
     ]
    }
   ],
   "source": [
    "data_siswa = {}\n",
    "\n",
    "def tambah_data():\n",
    "    try:\n",
    "        nim = input(\"Masukkan NIM (11 karakter): \")\n",
    "        if len(nim) != 11:\n",
    "            raise ValueError(\"NIM harus 11 karakter!\")\n",
    "\n",
    "        nama = input(\"Masukkan Nama (min 3 karakter): \")\n",
    "        if len(nama) < 3:\n",
    "            raise ValueError(\"Nama terlalu pendek!\")\n",
    "\n",
    "        alamat = input(\"Masukkan Alamat (min 5 karakter): \")\n",
    "        if len(alamat) < 5:\n",
    "            raise ValueError(\"Alamat terlalu pendek!\")\n",
    "\n",
    "        kelas = input(\"Masukkan Kelas (TI24H, TI24F, TI24G, TI24A): \").upper()\n",
    "        if kelas not in ['TI24H', 'TI24F', 'TI24G', 'TI24A']:\n",
    "            raise ValueError(\"Kelas tidak valid! Harus TI24H, TI24F, TI24G, atau TI24A.\")\n",
    "\n",
    "        data_siswa[nim] = {\n",
    "            'nama': nama,\n",
    "            'alamat': alamat,\n",
    "            'kelas': kelas\n",
    "        }\n",
    "        print(\"Data berhasil ditambahkan.\\n\")\n",
    "\n",
    "    except ValueError as ve:\n",
    "        print(\"ValueError:\", ve)\n",
    "    except TypeError as te:\n",
    "        print(\"TypeError:\", te)\n",
    "    except ZeroDivisionError as zde:\n",
    "        print(\"ZeroDivisionError:\", zde)\n",
    "    except Exception as e:\n",
    "        print(\"Exception:\", e)\n",
    "\n",
    "def tampilkan_data():\n",
    "    if not data_siswa:\n",
    "        print(\"Data kosong.\")\n",
    "    for nim, info in data_siswa.items():\n",
    "        print(f\"NIM: {nim}, Nama: {info['nama']}, Alamat: {info['alamat']}, Kelas: {info['kelas']}\")\n",
    "\n",
    "def cari_data():\n",
    "    cari_nim = input(\"Masukkan NIM yang dicari: \")\n",
    "    if cari_nim in data_siswa:\n",
    "        print(\"Data ditemukan:\", data_siswa[cari_nim])\n",
    "    else:\n",
    "        print(\"Data tidak ditemukan.\")\n",
    "3\n",
    "while True:\n",
    "    print(\"\\nMenu:\")\n",
    "    print(\"1. Tambah Data Siswa\")\n",
    "    print(\"2. Tampilkan Data\")\n",
    "    print(\"3. Exit\")\n",
    "    print(\"4. Cari Data\")\n",
    "\n",
    "    pilihan = input(\"Pilih menu (1-4): \")\n",
    "    if pilihan == '1':\n",
    "        tambah_data()\n",
    "    elif pilihan == '2':\n",
    "        tampilkan_data()\n",
    "    elif pilihan == '3':\n",
    "        print(\"Keluar dari program.\")\n",
    "        break\n",
    "    elif pilihan == '4':\n",
    "        cari_data()\n",
    "    else:\n",
    "        print(\"Pilihan tidak valid.\")"
   ]
  }
 ],
 "metadata": {
  "kernelspec": {
   "display_name": "Python [conda env:base] *",
   "language": "python",
   "name": "conda-base-py"
  },
  "language_info": {
   "codemirror_mode": {
    "name": "ipython",
    "version": 3
   },
   "file_extension": ".py",
   "mimetype": "text/x-python",
   "name": "python",
   "nbconvert_exporter": "python",
   "pygments_lexer": "ipython3",
   "version": "3.12.7"
  }
 },
 "nbformat": 4,
 "nbformat_minor": 5
}
