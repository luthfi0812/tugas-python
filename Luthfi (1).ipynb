{
 "cells": [
  {
   "cell_type": "code",
   "execution_count": 49,
   "id": "ff4646cb-8fd4-43eb-bdb6-43839860ef2e",
   "metadata": {},
   "outputs": [
    {
     "name": "stdout",
     "output_type": "stream",
     "text": [
      "Nama : Upi\n",
      "Alamat : Jl. Selabintana\n",
      "Umur : 20\n",
      "Nilai Pemrograman : 85.5\n",
      "Status Menikah : False\n",
      "Propinsi : 7413412\n"
     ]
    }
   ],
   "source": [
    "name = \"Upi\"\n",
    "addres, province = \"Jl. Selabintana\",\"7413412\"\n",
    "age = 20\n",
    "scorePython = 85.5\n",
    "isMarried = False\n",
    "\n",
    "print(\"Nama :\",name)\n",
    "print(\"Alamat :\",addres)\n",
    "print(\"Umur :\",age)\n",
    "print(\"Nilai Pemrograman :\", scorePython)\n",
    "print(\"Status Menikah :\", isMarried)\n",
    "print(\"Propinsi :\", province)\n"
   ]
  },
  {
   "cell_type": "code",
   "execution_count": 9,
   "id": "5e2167d9-b34b-4dc0-a2a4-df8e75d62b41",
   "metadata": {},
   "outputs": [
    {
     "name": "stdout",
     "output_type": "stream",
     "text": [
      "Tipe data <name> : <class 'str'>\n",
      "Tipe data <addres> : <class 'str'>\n",
      "Tipe data <age> : <class 'int'>\n",
      "Tipe data <scorePython> : <class 'float'>\n",
      "Tipe data <isMarried> : <class 'bool'>\n"
     ]
    }
   ],
   "source": [
    "print(\"Tipe data <name> :\",type(name))\n",
    "print(\"Tipe data <addres> :\",type(addres))\n",
    "print(\"Tipe data <age> :\",type(age))\n",
    "print(\"Tipe data <scorePython> :\",type(scorePython))\n",
    "print(\"Tipe data <isMarried> :\",type(isMarried))"
   ]
  },
  {
   "cell_type": "code",
   "execution_count": 53,
   "id": "3182a79c-57b4-4c79-acec-4cd47ffe7381",
   "metadata": {},
   "outputs": [
    {
     "name": "stdout",
     "output_type": "stream",
     "text": [
      "7413414-7413412.0-True\n"
     ]
    }
   ],
   "source": [
    "#Casting / KOnversi Tipe Data\n",
    "#1. String ke (int,float,boolean)\n",
    "strToInt = int(province)\n",
    "strToFloat = float(province)\n",
    "strToBool = bool(province)\n",
    "print(strToInt + 2,strToFloat,strToBool, sep=\"-\")"
   ]
  },
  {
   "cell_type": "code",
   "execution_count": 19,
   "id": "b3a5f1cd-effd-4ae3-89ef-91d563177e46",
   "metadata": {},
   "outputs": [
    {
     "name": "stdout",
     "output_type": "stream",
     "text": [
      "Nilai desimal : 500\n",
      "Nilai biner : 10\n",
      "Nilai octal : 255\n",
      "Nilai hexa : 255\n",
      "Nilai biner dari  500 : 0b111110100\n",
      "Nilai octal dari  500 : 0o764\n",
      "Nilai Hexa dari  500 : 0x1f4\n"
     ]
    }
   ],
   "source": [
    "#Tipe data basis bilangan (desimal,biner,octal, hexa)\n",
    "\n",
    "desimal = 500\n",
    "biner = 0b1010 #10\n",
    "octal = 0o377 #255\n",
    "hexa = 0xff #255\n",
    "\n",
    "print(\"Nilai desimal :\",desimal)\n",
    "print(\"Nilai biner :\",biner)\n",
    "print(\"Nilai octal :\",octal)\n",
    "print(\"Nilai hexa :\",hexa)\n",
    "\n",
    "print(\"Nilai biner dari \",desimal, \":\",bin(desimal))\n",
    "print(\"Nilai octal dari \",desimal, \":\",oct(desimal))\n",
    "print(\"Nilai Hexa dari \",desimal, \":\",hex(desimal))"
   ]
  },
  {
   "cell_type": "code",
   "execution_count": 35,
   "id": "2eaa3276-6992-4f48-b40d-015becda1bc2",
   "metadata": {},
   "outputs": [
    {
     "name": "stdout",
     "output_type": "stream",
     "text": [
      "B\n",
      "7\n",
      "G\n"
     ]
    }
   ],
   "source": [
    "city = \"BANDUNG\"\n",
    "length = len(city)\n",
    "print(city[0])\n",
    "print(length)\n",
    "print(city [length-1])\n"
   ]
  },
  {
   "cell_type": "code",
   "execution_count": 75,
   "id": "51dd3ae8-7ae4-4780-a277-b69a2cf9ca11",
   "metadata": {},
   "outputs": [
    {
     "name": "stdout",
     "output_type": "stream",
     "text": [
      "['Bandung', 'Sukabumi', 'Bogor', 'Jakarta', 'Medan']\n",
      "Bandung\n",
      "Medan\n",
      "M\n",
      "n\n",
      "['Bali', 'Sukabumi', 'Bogor', 'Jakarta', 'Medan']\n",
      "('Andi', 'Ferdi', 'Raihan')\n",
      "Ferdi\n",
      "{'name': 'Robi', 'age': 25, 'address': {'street': 'Cisaat', 'number': 21, 'province': 'Jawa Barat'}, 'isMarried': True, 'hobbies': ['Basket Ball, Football']}\n",
      "25\n",
      "Jawa Barat\n",
      "Basket Ball, Football\n",
      "{'name': 'Robi', 'age': 25, 'address': {'street': 'Cisaat', 'number': 21, 'province': 'Jawa Barat'}, 'isMarried': True, 'hobbies': ['Basket Ball, Football']}\n",
      "{'name': 'Robi', 'age': 25, 'address': {'street': 'Cisaat', 'number': 21, 'province': 'Jawa Barat'}, 'isMarried': True, 'hobbies': ['Chess, Singing']}\n",
      "Jawa Barat\n"
     ]
    }
   ],
   "source": [
    "#Tipe data Collection\n",
    "cities = [\"Bandung\", \"Sukabumi\",\"Bogor\",\"Jakarta\", \"Medan\"]\n",
    "lengthCities = len(cities)\n",
    "print(cities)\n",
    "print(cities[0])\n",
    "print(cities[lengthCities-1])\n",
    "print(cities[lengthCities-1][0])\n",
    "print(cities[lengthCities-1][len(cities[lengthCities-1])-1])\n",
    "cities[0] = \"Bali\"\n",
    "#cities[5] = \"Malang\" akan menyebabkan error out range\n",
    "print(cities)\n",
    "\n",
    "names = (\"Andi\",\"Ferdi\",\"Raihan\")\n",
    "print(names)\n",
    "print(names[1])\n",
    "#names[0] = \"Dedi\" error immutable tuple\n",
    "\n",
    "studentData = {\n",
    "    \"name\" : \"Robi\",\n",
    "    \"age\" : 25,\n",
    "    \"address\" : {\n",
    "        \"street\" : \"Cisaat\",\n",
    "        \"number\" : 21,\n",
    "        \"province\" : \"Jawa Barat\"\n",
    "    },\n",
    "    \"isMarried\" : True,\n",
    "    \"hobbies\" : [\"Basket Ball, Football\"]\n",
    "}\n",
    "\n",
    "print(studentData)\n",
    "print(studentData[\"age\"])\n",
    "print(studentData[\"address\"][\"province\"])\n",
    "print(studentData[\"hobbies\"][0])\n",
    "\n",
    "studentList = [\n",
    "    {\n",
    "       \"name\" : \"Robi\",\n",
    "       \"age\" : 25,\n",
    "       \"address\" : {\n",
    "           \"street\" : \"Cisaat\",\n",
    "           \"number\" : 21,\n",
    "           \"province\" : \"Jawa Barat\"\n",
    "      },\n",
    "      \"isMarried\" : True,\n",
    "      \"hobbies\" : [\"Basket Ball, Football\"]\n",
    "    },\n",
    "    {\n",
    "      \"name\" : \"Robi\",\n",
    "      \"age\" : 25,\n",
    "      \"address\" : {\n",
    "          \"street\" : \"Cisaat\",\n",
    "          \"number\" : 21,\n",
    "          \"province\" : \"Jawa Barat\"\n",
    "    },\n",
    "      \"isMarried\" : True,\n",
    "      \"hobbies\" : [\"Chess, Singing\"]\n",
    "    }\n",
    "]\n",
    "print(studentList[0])\n",
    "print(studentList[1])\n",
    "print(studentList[1][\"address\"][\"province\"])\n",
    "\n",
    "      "
   ]
  },
  {
   "cell_type": "code",
   "execution_count": 89,
   "id": "ccc3b5c9-3e6a-4d90-b410-f5c49743a497",
   "metadata": {},
   "outputs": [
    {
     "name": "stdout",
     "output_type": "stream",
     "text": [
      "{'Name': 'Iki', 'Age': 30, 'Status': True}\n",
      "{'Name': 'Rudi', 'Address': 'Bogor'}\n",
      "{'Name': 'Tiger', 'Type': 'Mamalia'}\n",
      "{'Name': 'Tiger', 'Type': 'Mamalia'}\n",
      "{'vehicle': 'car', 'brand': 'bmw', 'cc': '1'}\n"
     ]
    }
   ],
   "source": [
    "#Konversi dictionary\n",
    "\n",
    "list_list = [[\"Name\",\"Iki\"],[\"Age\",30], [\"Status\",True]]\n",
    "dictListStudent = dict(list_list)\n",
    "print(dictListStudent)\n",
    "\n",
    "list_tuple = [(\"Name\",\"Rudi\"),(\"Address\",\"Bogor\")]\n",
    "dictTupleStudent = dict(list_tuple)\n",
    "print(dictTupleStudent)\n",
    "\n",
    "tuple_list = ([\"Name\",\"Tiger\"],[\"Type\",\"Mamalia\"])\n",
    "dictListAnimal = dict(tuple_list)\n",
    "print(dictListAnimal)\n",
    "\n",
    "tuple_tuple = ((\"Name\",\"Crocodile\"),(\"Type\",\"Reptile\"))\n",
    "dictTupleAnimal = dict(tuple_tuple)\n",
    "print(dictListAnimal)\n",
    "\n",
    "keys = [\"vehicle\",\"brand\",\"cc\"]\n",
    "values = [\"car\", \"bmw\",\"1\"]\n",
    "car = dict(zip(keys,values))\n",
    "print(car)"
   ]
  },
  {
   "cell_type": "code",
   "execution_count": null,
   "id": "aede4c69-d07e-49a1-b3de-92b7d9fc2462",
   "metadata": {},
   "outputs": [],
   "source": []
  }
 ],
 "metadata": {
  "kernelspec": {
   "display_name": "Python [conda env:base] *",
   "language": "python",
   "name": "conda-base-py"
  },
  "language_info": {
   "codemirror_mode": {
    "name": "ipython",
    "version": 3
   },
   "file_extension": ".py",
   "mimetype": "text/x-python",
   "name": "python",
   "nbconvert_exporter": "python",
   "pygments_lexer": "ipython3",
   "version": "3.12.7"
  }
 },
 "nbformat": 4,
 "nbformat_minor": 5
}
